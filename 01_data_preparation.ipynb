{
 "cells": [
  {
   "cell_type": "markdown",
   "id": "0b39ec19",
   "metadata": {},
   "source": [
    "Data to prepare:\n",
    "1. Dataset-publication Interaction (Graph DP)\n",
    "2. Dataset features\n",
    "3. Publication features"
   ]
  },
  {
   "cell_type": "code",
   "execution_count": 20,
   "id": "7c901688",
   "metadata": {},
   "outputs": [],
   "source": [
    "PATH_data_import = \"/Users/lizhouf/Documents/4_MICA/Scholarly Object Management + RecSys/DataChat/Data_raw/\"\n",
    "PATH_data_export = \"/Users/lizhouf/Documents/4_MICA/Scholarly Object Management + RecSys/DataChat/Data_result/\""
   ]
  },
  {
   "cell_type": "code",
   "execution_count": 21,
   "id": "fdb742d6",
   "metadata": {},
   "outputs": [],
   "source": [
    "import pandas as pd\n",
    "import numpy as np\n",
    "import re\n",
    "import json"
   ]
  },
  {
   "cell_type": "code",
   "execution_count": 22,
   "id": "0d22145a",
   "metadata": {},
   "outputs": [
    {
     "name": "stderr",
     "output_type": "stream",
     "text": [
      "/Users/lizhouf/opt/anaconda3/lib/python3.9/site-packages/IPython/core/interactiveshell.py:3444: DtypeWarning: Columns (13) have mixed types.Specify dtype option on import or set low_memory=False.\n",
      "  exec(code_obj, self.user_global_ns, self.user_ns)\n",
      "/Users/lizhouf/opt/anaconda3/lib/python3.9/site-packages/IPython/core/interactiveshell.py:3444: DtypeWarning: Columns (7,13,53,54,55,56,57,58,63,64,65) have mixed types.Specify dtype option on import or set low_memory=False.\n",
      "  exec(code_obj, self.user_global_ns, self.user_ns)\n"
     ]
    }
   ],
   "source": [
    "df_studies_all = pd.read_csv(PATH_data_import+\"ICPSR_datasets.csv\")\n",
    "df_studies_meta = pd.read_csv(PATH_data_import+\"study_data_20230217.csv\")\n",
    "df_bib = pd.read_csv(PATH_data_import+\"ICPSR_publications.csv\")\n",
    "df_stud_bib = pd.read_csv(PATH_data_import+\"ICPSR_datasets_publications_interaction.csv\")"
   ]
  },
  {
   "cell_type": "markdown",
   "id": "184541dc",
   "metadata": {},
   "source": [
    "# Preprocess datasets"
   ]
  },
  {
   "cell_type": "code",
   "execution_count": 23,
   "id": "78020ece",
   "metadata": {},
   "outputs": [],
   "source": [
    "df_studies_all.fillna(\"NoRecord\",inplace=True)"
   ]
  },
  {
   "cell_type": "code",
   "execution_count": 24,
   "id": "ebb35bd9",
   "metadata": {},
   "outputs": [],
   "source": [
    "df_studies_all[\"DESCRIPTION\"]=df_studies_all[\"DESCRIPTION_1\"]+df_studies_all[\"DESCRIPTION_2\"]+df_studies_all[\"DESCRIPTION_3\"]+df_studies_all[\"DESCRIPTION_4\"]+df_studies_all[\"DESCRIPTION_5\"]\n",
    "def striphtml(data):\n",
    "    p = re.compile(r'<.*?>')\n",
    "    return p.sub('', str(data))\n",
    "df_studies_all.DESCRIPTION = df_studies_all.DESCRIPTION.apply(lambda x: striphtml(x))"
   ]
  },
  {
   "cell_type": "code",
   "execution_count": 25,
   "id": "a6a6a127",
   "metadata": {},
   "outputs": [],
   "source": [
    "df_studies_all.drop(columns = ['ALTTITLE1', 'ALTTITLE2', 'ALTTITLE3', 'ALTTITLE4',\n",
    "                               'ALTTITLE5', 'ALTTITLE6', 'ALTTITLE7',\n",
    "                               'DESCRIPTION_1', 'DESCRIPTION_2','DESCRIPTION_3',\n",
    "                               'DESCRIPTION_4', 'DESCRIPTION_5'],inplace=True)"
   ]
  },
  {
   "cell_type": "code",
   "execution_count": 26,
   "id": "56fedca8",
   "metadata": {},
   "outputs": [],
   "source": [
    "df_studies_all.STUDY = df_studies_all.STUDY.astype(int).astype(int)"
   ]
  },
  {
   "cell_type": "code",
   "execution_count": 27,
   "id": "529c23e0",
   "metadata": {},
   "outputs": [],
   "source": [
    "df_studies_all.ORIGRELDATE = df_studies_all.ORIGRELDATE.apply(lambda x: x[:10])"
   ]
  },
  {
   "cell_type": "code",
   "execution_count": 28,
   "id": "c7a8ead6",
   "metadata": {},
   "outputs": [],
   "source": [
    "df_studies_all[\"YEAR\"] = df_studies_all.ORIGRELDATE.apply(lambda x: x[:4])"
   ]
  },
  {
   "cell_type": "code",
   "execution_count": 29,
   "id": "e4b611e7",
   "metadata": {},
   "outputs": [],
   "source": [
    "# limit to datasets after 2017\n",
    "df_studies_all = df_studies_all[df_studies_all.YEAR.isin([\"2017\",\"2018\",\"2019\",\"2020\",\"2021\",\"2022\"])].reset_index(drop=True)"
   ]
  },
  {
   "cell_type": "code",
   "execution_count": 30,
   "id": "a44c46b3",
   "metadata": {},
   "outputs": [
    {
     "name": "stdout",
     "output_type": "stream",
     "text": [
      "<class 'pandas.core.frame.DataFrame'>\n",
      "RangeIndex: 1642 entries, 0 to 1641\n",
      "Data columns (total 14 columns):\n",
      " #   Column         Non-Null Count  Dtype  \n",
      "---  ------         --------------  -----  \n",
      " 0   STUDY          1642 non-null   int64  \n",
      " 1   NAME           1642 non-null   object \n",
      " 2   SERIES         1642 non-null   float64\n",
      " 3   SERIES_TITLE   1642 non-null   object \n",
      " 4   OWNER          1642 non-null   object \n",
      " 5   PERMIT         1642 non-null   object \n",
      " 6   OBJECTTYPE     1642 non-null   object \n",
      " 7   FUNDINGAGENCY  1642 non-null   object \n",
      " 8   DOI            1642 non-null   object \n",
      " 9   GEO            1642 non-null   object \n",
      " 10  TERMS          1642 non-null   object \n",
      " 11  ORIGRELDATE    1642 non-null   object \n",
      " 12  DESCRIPTION    1642 non-null   object \n",
      " 13  YEAR           1642 non-null   object \n",
      "dtypes: float64(1), int64(1), object(12)\n",
      "memory usage: 179.7+ KB\n"
     ]
    }
   ],
   "source": [
    "df_studies_all.info()"
   ]
  },
  {
   "cell_type": "markdown",
   "id": "27fd4787",
   "metadata": {},
   "source": [
    "# augment 1: add more metadata"
   ]
  },
  {
   "cell_type": "code",
   "execution_count": 31,
   "id": "30f15296",
   "metadata": {},
   "outputs": [
    {
     "name": "stderr",
     "output_type": "stream",
     "text": [
      "/var/folders/16/dh6sy2v17_l39d8bcf_6y7n00000gr/T/ipykernel_49032/2111330215.py:10: SettingWithCopyWarning: \n",
      "A value is trying to be set on a copy of a slice from a DataFrame\n",
      "\n",
      "See the caveats in the documentation: https://pandas.pydata.org/pandas-docs/stable/user_guide/indexing.html#returning-a-view-versus-a-copy\n",
      "  df_studies_all[\"users\"][i] = int(this_num)\n",
      "/var/folders/16/dh6sy2v17_l39d8bcf_6y7n00000gr/T/ipykernel_49032/2111330215.py:16: SettingWithCopyWarning: \n",
      "A value is trying to be set on a copy of a slice from a DataFrame\n",
      "\n",
      "See the caveats in the documentation: https://pandas.pydata.org/pandas-docs/stable/user_guide/indexing.html#returning-a-view-versus-a-copy\n",
      "  df_studies_all[\"data_users\"][i] = int(this_num)\n"
     ]
    }
   ],
   "source": [
    "users_dict = dict(zip(df_studies_meta.STUDY,df_studies_meta[\" users_to_20220822\"]))\n",
    "data_users_dict = dict(zip(df_studies_meta.STUDY,df_studies_meta[\" datausers_to_20220822\"]))\n",
    "df_studies_all[\"users\"] = [0]*len(df_studies_all)\n",
    "df_studies_all[\"data_users\"] = [0]*len(df_studies_all)\n",
    "for i in range(len(df_studies_all)):\n",
    "    this_study = df_studies_all.STUDY[i]\n",
    "    if this_study in users_dict:\n",
    "        this_num = users_dict[this_study]\n",
    "        try:\n",
    "            df_studies_all[\"users\"][i] = int(this_num)\n",
    "        except:\n",
    "            0\n",
    "    if this_study in data_users_dict:\n",
    "        this_num = data_users_dict[this_study]\n",
    "        try:\n",
    "            df_studies_all[\"data_users\"][i] = int(this_num)\n",
    "        except:\n",
    "            0\n"
   ]
  },
  {
   "cell_type": "markdown",
   "id": "aa138c47",
   "metadata": {},
   "source": [
    "# augment 2: add data citing number: NOT NEEDED, REMOVE THIS!"
   ]
  },
  {
   "cell_type": "code",
   "execution_count": 32,
   "id": "103b2dee",
   "metadata": {},
   "outputs": [],
   "source": [
    "df_studies_all[\"citations\"] = [0]*len(df_studies_all)\n",
    "for data_refs in df_bib.STUD_NUMS:\n",
    "    try:\n",
    "        data_refs_list = data_refs.split(\";\")\n",
    "        for ref in data_refs_list:\n",
    "            try: \n",
    "                df_studies_all.loc[df_studies_all.STUDY==int(ref),\"citations\"]+=1\n",
    "            except:\n",
    "                0\n",
    "    except:\n",
    "        0"
   ]
  },
  {
   "cell_type": "code",
   "execution_count": 33,
   "id": "cb1b251e",
   "metadata": {},
   "outputs": [
    {
     "data": {
      "text/plain": [
       "Index(['REF_ID', 'REF_DOI', 'TITLE', 'AUTHORS', 'SEC_TITLE', 'ISSN',\n",
       "       'STUD_NUMS', 'SERIES_NUMS', 'DATE_INPUT', 'SUBJECT', 'WHERE_FOUND',\n",
       "       'STATUS', 'RIS_TYPE', 'FUNDER', 'DATE_PUB', 'YEAR_PUB', 'id', 'title',\n",
       "       'altmetric_id', 'authors', 'category_for', 'concepts', 'linkout',\n",
       "       'open_access', 'publisher', 'recent_citations', 'times_cited', 'type',\n",
       "       'year', 'journal.id', 'journal.title', 'abstract', 'altmetric',\n",
       "       'category_sdg', 'category_uoa', 'reference_ids', 'referenced_pubs',\n",
       "       'research_orgs', 'researchers', 'category_hra', 'category_bra',\n",
       "       'field_citation_ratio', 'relative_citation_ratio', 'funders',\n",
       "       'supporting_grant_ids', 'STUDY'],\n",
       "      dtype='object')"
      ]
     },
     "execution_count": 33,
     "metadata": {},
     "output_type": "execute_result"
    }
   ],
   "source": [
    "df_bib.columns"
   ]
  },
  {
   "cell_type": "markdown",
   "id": "193abc9c",
   "metadata": {},
   "source": [
    "# augment 3: add publications details"
   ]
  },
  {
   "cell_type": "code",
   "execution_count": 42,
   "id": "e883c9ee",
   "metadata": {},
   "outputs": [],
   "source": [
    "def remove_duplicate_dict(l):\n",
    "    seen = set()\n",
    "    new_l = []\n",
    "    for d in l:\n",
    "        t = d[\"name\"]\n",
    "        if t not in seen:\n",
    "            seen.add(t)\n",
    "            new_l.append(d)\n",
    "    return new_l"
   ]
  },
  {
   "cell_type": "code",
   "execution_count": 43,
   "id": "91a3c330",
   "metadata": {},
   "outputs": [
    {
     "data": {
      "text/plain": [
       "[{'name': 'a', 'pubRefCount': 1}, {'name': 'b', 'pubRefCount': 3}]"
      ]
     },
     "execution_count": 43,
     "metadata": {},
     "output_type": "execute_result"
    }
   ],
   "source": [
    " remove_duplicate_dict([{\"name\":\"a\",\"pubRefCount\":1},{\"name\":\"a\",\"pubRefCount\":3},{\"name\":\"b\",\"pubRefCount\":3}])"
   ]
  },
  {
   "cell_type": "code",
   "execution_count": 44,
   "id": "08181d33",
   "metadata": {},
   "outputs": [
    {
     "name": "stdout",
     "output_type": "stream",
     "text": [
      "0\n",
      "100\n",
      "200\n",
      "300\n",
      "400\n",
      "500\n",
      "600\n",
      "700\n",
      "800\n",
      "900\n",
      "1000\n",
      "1100\n",
      "1200\n",
      "1300\n",
      "1400\n",
      "1500\n",
      "1600\n"
     ]
    }
   ],
   "source": [
    "# name, url, citations\n",
    "publication_list = []\n",
    "\n",
    "for i in range(len(df_studies_all)):\n",
    "    if i%100==0:\n",
    "        print(i)\n",
    "    this_study = df_studies_all.STUDY[i]\n",
    "    this_pubs_list = []\n",
    "    \n",
    "    for j in range(len(df_bib)):\n",
    "        data_refs = df_bib.STUD_NUMS[j]\n",
    "        if type(data_refs)==str:\n",
    "            data_refs_list = [int(ref) for ref in data_refs.split(\";\")]\n",
    "            if this_study in data_refs_list:\n",
    "                ref_count = df_bib.times_cited[j]\n",
    "                if np.isnan(ref_count):\n",
    "                    ref_count = 0\n",
    "                this_pubs_list.append({\"name\": df_bib.TITLE[j],\n",
    "                                       \"pubRefCount\": ref_count})\n",
    "\n",
    "    publication_list.append(remove_duplicate_dict(this_pubs_list))\n",
    "\n",
    "df_studies_all[\"publications\"] = publication_list"
   ]
  },
  {
   "cell_type": "markdown",
   "id": "50c2e3ef",
   "metadata": {},
   "source": [
    "# export results"
   ]
  },
  {
   "cell_type": "code",
   "execution_count": 45,
   "id": "0a05b20a",
   "metadata": {},
   "outputs": [],
   "source": [
    "data_results = list()\n",
    "for idx, row in df_studies_all.iterrows():\n",
    "    data_results.append({\"id\":row[\"STUDY\"],\n",
    "                         \"name\":row[\"NAME\"],\n",
    "                         \"date\":row[\"ORIGRELDATE\"],\n",
    "                         \"url\":\"https://doi.org/\"+row[\"DOI\"], \n",
    "                         \"series\":row[\"SERIES_TITLE\"],\n",
    "                         \"owner\":row[\"OWNER\"],\n",
    "                         \"users\":row[\"users\"],\n",
    "                         \"dataUsers\":row[\"data_users\"],\n",
    "                         \"dataReferences\":row[\"citations\"],\n",
    "                         \"funders\":[{\"name\":funder} for funder in row[\"FUNDINGAGENCY\"].split(\".\")], \n",
    "                         \"locations\":[{\"name\":location} for location in row[\"GEO\"].split(\";\")],\n",
    "                         \"terms\":[{\"name\":term} for term in row['TERMS'].split(\";\")],\n",
    "                         \"publications\":row[\"publications\"]\n",
    "                        })"
   ]
  },
  {
   "cell_type": "code",
   "execution_count": 46,
   "id": "460d0200",
   "metadata": {},
   "outputs": [
    {
     "data": {
      "text/plain": [
       "[{'id': 25541,\n",
       "  'name': 'Channels of Interstate Risk Sharing, United States, 1963-2000',\n",
       "  'date': '2018-06-18',\n",
       "  'url': 'https://doi.org/10.3886/ICPSR25541.v1 ',\n",
       "  'series': 'NoRecord',\n",
       "  'owner': 'ICPSR',\n",
       "  'users': 0,\n",
       "  'dataUsers': 0,\n",
       "  'dataReferences': 1,\n",
       "  'funders': [{'name': 'National Science Foundation'}],\n",
       "  'locations': [{'name': 'United States'}],\n",
       "  'terms': [{'name': 'capitalism'},\n",
       "   {'name': ' consumer expenditures'},\n",
       "   {'name': ' credit'},\n",
       "   {'name': ' economic activity'},\n",
       "   {'name': ' economic conditions'},\n",
       "   {'name': ' economic forecasting'},\n",
       "   {'name': ' economic indicators'},\n",
       "   {'name': ' economic sectors'},\n",
       "   {'name': ' economic systems'},\n",
       "   {'name': ' grants'},\n",
       "   {'name': ' Gross Domestic Product'},\n",
       "   {'name': ' Gross National Product'},\n",
       "   {'name': ' market economy'},\n",
       "   {'name': ' risk'},\n",
       "   {'name': ' taxes'}],\n",
       "  'publications': [{'name': 'Channels of interstate risk sharing: United States 1963--1990',\n",
       "    'pubRefCount': 457.0}]},\n",
       " {'id': 26343,\n",
       "  'name': 'Reforming Public Child Welfare in Indiana, 2007-2009',\n",
       "  'date': '2018-11-20',\n",
       "  'url': 'https://doi.org/10.3886/ICPSR26343.v1 ',\n",
       "  'series': 'NoRecord',\n",
       "  'owner': 'NACJD',\n",
       "  'users': 95,\n",
       "  'dataUsers': 64,\n",
       "  'dataReferences': 1,\n",
       "  'funders': [{'name': 'United States Department of Justice'},\n",
       "   {'name': ' Office of Justice Programs'},\n",
       "   {'name': ' Office of Juvenile Justice and Delinquency Prevention'}],\n",
       "  'locations': [{'name': 'Indiana'}, {'name': ' United States'}],\n",
       "  'terms': [{'name': 'child advocacy'},\n",
       "   {'name': ' child welfare'},\n",
       "   {'name': ' courts'},\n",
       "   {'name': ' judges'},\n",
       "   {'name': ' law enforcement agencies'},\n",
       "   {'name': ' public health'},\n",
       "   {'name': ' school personnel'},\n",
       "   {'name': ' social services'}],\n",
       "  'publications': [{'name': 'Supervision during child welfare system reform: Qualitative study of factors influencing case manager implementation of a new practice model',\n",
       "    'pubRefCount': 4.0}]},\n",
       " {'id': 26722,\n",
       "  'name': 'Federally Prosecuted Commercial Sexual Exploitation of Children (CSEC) Cases, United States, 1998-2005',\n",
       "  'date': '2019-10-29',\n",
       "  'url': 'https://doi.org/10.3886/ICPSR26722.v1 ',\n",
       "  'series': 'NoRecord',\n",
       "  'owner': 'NACJD',\n",
       "  'users': 24,\n",
       "  'dataUsers': 0,\n",
       "  'dataReferences': 6,\n",
       "  'funders': [{'name': 'United States Department of Justice'},\n",
       "   {'name': ' Office of Justice Programs'},\n",
       "   {'name': ' Office of Juvenile Justice and Delinquency Prevention'}],\n",
       "  'locations': [{'name': 'United States'}],\n",
       "  'terms': [{'name': 'child prostitution'},\n",
       "   {'name': ' children'},\n",
       "   {'name': ' convictions (law)'},\n",
       "   {'name': ' court cases'},\n",
       "   {'name': ' exploitation'},\n",
       "   {'name': ' human rights'},\n",
       "   {'name': ' human trafficking'},\n",
       "   {'name': ' prosecution'},\n",
       "   {'name': ' sex offenses'},\n",
       "   {'name': ' sex trafficking'},\n",
       "   {'name': ' sexual exploitation'}],\n",
       "  'publications': [{'name': 'Effects of Federal Legislation on the Commercial Sexual Exploitation of Children',\n",
       "    'pubRefCount': 0},\n",
       "   {'name': 'An Analysis of Federally Prosecuted CSEC Cases Since the Passage of the Victims of Trafficking and Violence Protection Act of 2000',\n",
       "    'pubRefCount': 0},\n",
       "   {'name': 'Perspectives from CSEC service providers following the passage of the TVPA of 2000',\n",
       "    'pubRefCount': 0},\n",
       "   {'name': 'Prosecution of CSEC cases in the United States: Effects of federal legislation since the TVPA of 2000',\n",
       "    'pubRefCount': 0},\n",
       "   {'name': 'An analysis of federal CSEC prosecutions since the passage of the TVPA of 2000',\n",
       "    'pubRefCount': 0},\n",
       "   {'name': 'Federal Prosecution of Commercial Sexual Exploitation of Children Cases, 2004-2013',\n",
       "    'pubRefCount': 0}]}]"
      ]
     },
     "execution_count": 46,
     "metadata": {},
     "output_type": "execute_result"
    }
   ],
   "source": [
    "data_results[:3]"
   ]
  },
  {
   "cell_type": "code",
   "execution_count": 47,
   "id": "294240aa",
   "metadata": {},
   "outputs": [
    {
     "data": {
      "text/plain": [
       "1642"
      ]
     },
     "execution_count": 47,
     "metadata": {},
     "output_type": "execute_result"
    }
   ],
   "source": [
    "len(data_results)"
   ]
  },
  {
   "cell_type": "code",
   "execution_count": 48,
   "id": "5e8d60ff",
   "metadata": {},
   "outputs": [],
   "source": [
    "with open(PATH_data_export+\"data_output_17_22.json\", \"w\") as fout:\n",
    "    json.dump(data_results, fout)"
   ]
  }
 ],
 "metadata": {
  "kernelspec": {
   "display_name": "Python 3 (ipykernel)",
   "language": "python",
   "name": "python3"
  },
  "language_info": {
   "codemirror_mode": {
    "name": "ipython",
    "version": 3
   },
   "file_extension": ".py",
   "mimetype": "text/x-python",
   "name": "python",
   "nbconvert_exporter": "python",
   "pygments_lexer": "ipython3",
   "version": "3.9.7"
  }
 },
 "nbformat": 4,
 "nbformat_minor": 5
}
